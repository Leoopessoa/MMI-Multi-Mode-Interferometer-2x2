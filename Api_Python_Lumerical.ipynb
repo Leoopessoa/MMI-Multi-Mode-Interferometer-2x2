{
 "cells": [
  {
   "cell_type": "markdown",
   "metadata": {},
   "source": [
    "# Code Startup"
   ]
  },
  {
   "cell_type": "code",
   "execution_count": 285,
   "metadata": {},
   "outputs": [],
   "source": [
    "import os\n",
    "import imp\n",
    "import matplotlib.pyplot as plt\n",
    "import numpy as np\n",
    "import math\n",
    "import pandas as pd\n",
    "import sys\n",
    "import pickle as plk\n",
    "import importlib.util\n",
    "from IPython.display import display, Math\n",
    "\n",
    "###############################################################\n",
    "# LINUX PATH\n",
    "\n",
    "sys.path.append(\"/opt/lumerical/v221/api/python\") #Default linux lumapi path\n",
    "import lumapi\n",
    "sys.path.append(os.path.dirname('/home/leonardo/Downloads/MMI-LeonardoPessôa/MMI-Multi-Mode-Interferometer-2x2')) #Current directory\n",
    "\n",
    "\n",
    "###############################################################\n",
    "# WINDOWS PATH\n",
    "\n",
    "#spec_win = importlib.util.spec_from_file_location('lumapi', 'C:\\\\Program Files\\\\Lumerical\\\\v202\\\\api\\\\python\\\\lumapi.py')\n",
    "#lumapi = importlib.util.module_from_spec(spec_win)\n",
    "#os.add_dll_directory(\"C:/Program Files/Lumerical/v202/api/python\")\n",
    "#sys.path.append(os.path.dirname('C:/Users/Caio/Documents/GitHub/Photonics-training/Projects/MMI/Lumericalfiles/'))\n",
    "# spec_win.loader.exec_module(lumapi)\n",
    "\n",
    "lum = lumapi.MODE(filename='MMi_Lumerical_File.lms',hide=False) \n"
   ]
  },
  {
   "cell_type": "markdown",
   "metadata": {},
   "source": [
    "# Initial Calculations"
   ]
  },
  {
   "cell_type": "code",
   "execution_count": 286,
   "metadata": {},
   "outputs": [],
   "source": [
    "# Initial Data\n",
    "ns = 1.444\n",
    "nf = 3.476\n",
    "lambda0 = 1550e-9\n",
    "pi = np.pi \n",
    "k0 = 2*pi/lambda0\n",
    "Wm = 9e-6\n",
    "c0 = 299792458\n",
    "N = 2"
   ]
  },
  {
   "cell_type": "code",
   "execution_count": 287,
   "metadata": {},
   "outputs": [
    {
     "name": "stdout",
     "output_type": "stream",
     "text": [
      "TE: effective width = 9.156040531990453e-06\n"
     ]
    }
   ],
   "source": [
    "# TE Mode\n",
    "\n",
    "sigma = 0\n",
    "We = Wm + (lambda0/pi)*((ns/nf)**(2*sigma))*(nf**2 - ns**2)**(-1/2)\n",
    "print(\"TE: effective width =\",We)"
   ]
  },
  {
   "cell_type": "code",
   "execution_count": 288,
   "metadata": {},
   "outputs": [
    {
     "name": "stdout",
     "output_type": "stream",
     "text": [
      "Approximate_Neff = 3.475\n",
      "Approximate_Neff = 3.472\n",
      "Approximate_Neff = 3.467\n",
      "Approximate_Neff = 3.460\n",
      "Approximate_Neff = 3.450\n"
     ]
    }
   ],
   "source": [
    "neffapx = np.zeros(5)\n",
    "for i in range(5):\n",
    "    neffapx[i] = nf - ((i+1)**2*pi*lambda0)/(We**2*4*nf*k0)\n",
    "    kc = (i+1)*pi/We\n",
    "    print(\"Approximate_Neff = %4.3f\" %(neffapx[i]))"
   ]
  },
  {
   "cell_type": "code",
   "execution_count": 289,
   "metadata": {},
   "outputs": [
    {
     "data": {
      "text/latex": [
       "$\\displaystyle L_{\\pi} = 188.00~um $"
      ],
      "text/plain": [
       "<IPython.core.display.Math object>"
      ]
     },
     "metadata": {},
     "output_type": "display_data"
    },
    {
     "name": "stdout",
     "output_type": "stream",
     "text": [
      "Now we have the lenght for N outputs: \n"
     ]
    },
    {
     "data": {
      "text/latex": [
       "$\\displaystyle \\dfrac{3}{4n}L_{\\pi} = 188.00/n~um $"
      ],
      "text/plain": [
       "<IPython.core.display.Math object>"
      ]
     },
     "metadata": {},
     "output_type": "display_data"
    },
    {
     "name": "stdout",
     "output_type": "stream",
     "text": [
      "Since the MMI we are working at has two outputs, we have: \n"
     ]
    },
    {
     "data": {
      "text/latex": [
       "$\\displaystyle \\dfrac{3}{4(2)}L_{\\pi} = 94.00~um $"
      ],
      "text/plain": [
       "<IPython.core.display.Math object>"
      ]
     },
     "metadata": {},
     "output_type": "display_data"
    }
   ],
   "source": [
    "Lpi_apx = 2*pi/(neffapx[0]-neffapx[2])*1/k0 \n",
    "display(Math('$$L_{\\pi} = %5.2f~um $$' %(1e6*Lpi_apx)))\n",
    "print(\"Now we have the lenght for N outputs: \")\n",
    "display(Math('$$\\dfrac{3}{4n}L_{\\pi} = %5.2f/n~um $$' %(1e6*Lpi_apx)))\n",
    "print(\"Since the MMI we are working at has two outputs, we have: \")\n",
    "display(Math('$$\\dfrac{3}{4(2)}L_{\\pi} = %5.2f~um $$' %(1e6*Lpi_apx/2)))"
   ]
  },
  {
   "cell_type": "code",
   "execution_count": 290,
   "metadata": {},
   "outputs": [
    {
     "name": "stdout",
     "output_type": "stream",
     "text": [
      "For this guide, the ideal thickness of the ports will be:\n"
     ]
    },
    {
     "data": {
      "text/latex": [
       "$\\displaystyle W_{wg} =  1.43~um$"
      ],
      "text/plain": [
       "<IPython.core.display.Math object>"
      ]
     },
     "metadata": {},
     "output_type": "display_data"
    }
   ],
   "source": [
    "W_wg = (1/((2*N)**(1/4)))*np.sqrt(lambda0*We/neffapx[0])\n",
    "print(\"For this guide, the ideal thickness of the ports will be:\")\n",
    "display(Math('$$W_{wg} = %5.2f~um$$' %(1e6*W_wg)))"
   ]
  },
  {
   "cell_type": "markdown",
   "metadata": {},
   "source": [
    "# Lumerical API"
   ]
  },
  {
   "cell_type": "markdown",
   "metadata": {},
   "source": [
    "Initial Parameters"
   ]
  },
  {
   "cell_type": "code",
   "execution_count": 291,
   "metadata": {},
   "outputs": [],
   "source": [
    "si = \"core\" # Material\n",
    "W = 9e-6 # Y span of the box\n",
    "Lpi = 96.4101e-6 # Box Width\n",
    "Wwg = 1.43e-6 # Yspan of the port\n",
    "z = 0.22e-6 # Z span\n",
    "zports = 5e-6 # Z span of EME ports\n",
    "portlen = 7.5e-6\n",
    "portyspan = 0.45e-6 \n",
    "EME_cells = 150\n",
    "inputport = 1 # Selected input port, counting from the upper to the lower one \n"
   ]
  },
  {
   "cell_type": "markdown",
   "metadata": {},
   "source": [
    "Box Creation"
   ]
  },
  {
   "cell_type": "code",
   "execution_count": 292,
   "metadata": {},
   "outputs": [],
   "source": [
    "lum.switchtolayout()\n",
    "lum.selectall()\n",
    "lum.delete()\n",
    "# Creation of MMI Box\n",
    "lum.addrect()\n",
    "lum.set({\n",
    "    \"x min\"    : 0,\n",
    "    \"x max\"    : Lpi,\n",
    "    \"y span\"   : W,\n",
    "    \"y\"        : 0,\n",
    "    \"z span\"   : z,\n",
    "    \"z\"        : 0,\n",
    "    \"material\" : si,\n",
    "    \"name\"     : \"Box\"\n",
    "      })"
   ]
  },
  {
   "cell_type": "markdown",
   "metadata": {},
   "source": [
    "Create Imput Ports"
   ]
  },
  {
   "cell_type": "code",
   "execution_count": 293,
   "metadata": {},
   "outputs": [],
   "source": [
    "for i in range(2):\n",
    "    lum.addobject(\"linear_taper\")\n",
    "    lum.set({\n",
    "        \"name\"      : \"Port \"+ str(i),\n",
    "        \"material\"  : si,\n",
    "        \"first axis\": \"y\",\n",
    "        \"y\"         : W/6*((-1)**(i+1)),\n",
    "        \"thickness\" : 0.22e-6,\n",
    "        \"rotation 1\": 180,\n",
    "        \"len\"       : portlen,\n",
    "        \"width_l\"   : Wwg,\n",
    "        \"width_r\"   : portyspan,\n",
    "        \"x\"         : -portlen/2,\n",
    "        \"angle_side\": 90,\n",
    "        \"z\"         : 0\n",
    "        })\n",
    "    lum.addtogroup(\"Input Ports\")\n",
    "    lum.unselectall()\n",
    "    \n",
    "    lum.addrect()\n",
    "    lum.set({\n",
    "        \"x min\"    : -2*portlen,\n",
    "        \"x max\"    : -portlen/2,\n",
    "        \"y span\"   : portyspan,\n",
    "        \"y\"        : W/6*((-1)**(i+1)),\n",
    "        \"z span\"   : z,\n",
    "        \"material\" : si,\n",
    "        \"name\"     : \"Port_rectangle \"+ str(i),\n",
    "        \"z\"        : 0 \n",
    "      })\n",
    "    lum.addtogroup(\"Input Ports\")\n",
    "    lum.unselectall()   \n"
   ]
  },
  {
   "cell_type": "markdown",
   "metadata": {},
   "source": [
    "Create Output Ports"
   ]
  },
  {
   "cell_type": "code",
   "execution_count": 294,
   "metadata": {},
   "outputs": [],
   "source": [
    "#Create Output ports \n",
    "j = 2\n",
    "for i in range(2) :\n",
    "    lum.addobject(\"linear_taper\")\n",
    "    lum.set({\n",
    "        \"name\"      : \"Port \"+ str(i+j),\n",
    "        \"material\"  : si,\n",
    "        \"first axis\": \"y\",\n",
    "        \"y\"         : W/6*((-1)**(i+1)),\n",
    "        \"thickness\" : 0.22e-6,\n",
    "        \"len\"       : portlen,\n",
    "        \"width_l\"   : Wwg,\n",
    "        \"width_r\"   : portyspan,\n",
    "        \"x\"         : Lpi + portlen/2,\n",
    "        \"angle_side\": 90,\n",
    "        \"z\"         : 0\n",
    "        })\n",
    "    lum.addtogroup(\"Output Ports\")\n",
    "    lum.unselectall()\n",
    "    lum.addrect()\n",
    "    lum.set({\n",
    "        \"x min\"    : Lpi+portlen,\n",
    "        \"x max\"    : Lpi+2*portlen,\n",
    "        \"y span\"   : portyspan,\n",
    "        \"y\"        : W/6*((-1)**(i+1)),\n",
    "        \"z span\"   : z,\n",
    "        \"material\" : si,\n",
    "        \"name\"     : \"Port_rectangle \"+ str(i+j),\n",
    "        \"z\"        : 0 \n",
    "     })\n",
    "    lum.addtogroup(\"Output Ports\")\n",
    "    lum.unselectall()\n"
   ]
  },
  {
   "cell_type": "markdown",
   "metadata": {},
   "source": [
    "Create EME Solver"
   ]
  },
  {
   "cell_type": "code",
   "execution_count": 295,
   "metadata": {},
   "outputs": [],
   "source": [
    "lum.addeme()\n",
    "lum.set(\"allow custom eigensolver settings\",1)\n",
    "lum.set(\"number of cell groups\",3)\n",
    "lum.set(\"group spans\",np.transpose([portlen+2e-6, Lpi, portlen+2e-6]))\n",
    "lum.set({\"cells\"               :np.transpose([25, 1, 25]),\n",
    "     \"subcell method\"          :np.transpose([1, 0, 1]), # 0 = none,  1 = CVCS\n",
    "     \"modes\"                   :np.transpose([10, 50, 10]),\n",
    "     \"x\"                       :lum.getnamed(\"Box\", \"x\"),\n",
    "     \"y\"                       :0,\n",
    "     \"y span\"                  :W+2e-6,\n",
    "     \"z\"                       :0,\n",
    "     \"z span\"                  :zports,\n",
    "     \"y min bc\"                :\"PML\",\n",
    "     \"y max bc\"                :\"PML\",\n",
    "     \"z min bc\"                :\"Symmetric\",\n",
    "     \"z max bc\"                :\"PML\",\n",
    "     \"background material\"     :\"SiO2 (Glass) - Palik\",\n",
    "     \"mesh cells y\"            :EME_cells,\n",
    "     \"mesh cells z\"            :EME_cells/2,\n",
    "     \"display cells\"           : 0\n",
    "    })"
   ]
  },
  {
   "cell_type": "markdown",
   "metadata": {},
   "source": [
    "Create EME ports"
   ]
  },
  {
   "cell_type": "code",
   "execution_count": 296,
   "metadata": {},
   "outputs": [],
   "source": [
    "lum.select(\"EME::Ports::port_1\")\n",
    "lum.set({\"use full simulation span\" :0,\n",
    "    \"y span\"                        :Wwg*1.75,\n",
    "    \"y\"                             :lum.getnamed(\"Input Ports::Port 1\",\"y\"),\n",
    "    \"z span\"                        :zports,\n",
    "    \"z\"                             :0\n",
    "})\n",
    "lum.unselectall()   \n",
    "for i in range(2,4):\n",
    "    if(i==2):\n",
    "        lum.select(\"EME::Ports::port_2\")\n",
    "        lum.set({\"use full simulation span\"  :0,\n",
    "             \"y span\"                        :Wwg*1.75,\n",
    "             \"y\"                             :lum.getnamed(\"Output Ports::Port \"+ str(i),\"y\"),\n",
    "             \"z span\"                        :zports,\n",
    "             \"z\"                             :0\n",
    "        })\n",
    "        lum.unselectall()\n",
    "    else :\n",
    "        lum.unselectall()\n",
    "        lum.addemeport()\n",
    "        lum.set({\"use full simulation span\"  :0,\n",
    "             \"y span\"                        :Wwg*1.75,\n",
    "             \"y\"                             :lum.getnamed(\"Output Ports::Port \"+str(i),\"y\"),\n",
    "             \"z span\"                        :zports,\n",
    "             \"z\"                             :0,\n",
    "             \"port location\"                 :\"right\"\n",
    "        })\n",
    "    lum.unselectall()\n"
   ]
  },
  {
   "cell_type": "markdown",
   "metadata": {},
   "source": [
    "Create Field Monitor"
   ]
  },
  {
   "cell_type": "code",
   "execution_count": 297,
   "metadata": {},
   "outputs": [],
   "source": [
    "lum.addemeprofile()\n",
    "lum.set({\"x\"      :lum.getnamed(\"EME\", \"x\"),\n",
    "     \"x span\"     : Lpi+2*portlen+4e-6,\n",
    "     \"y span\"     : lum.getnamed(\"EME\", \"y span\")+2e-6\n",
    "    })\n"
   ]
  },
  {
   "cell_type": "markdown",
   "metadata": {},
   "source": [
    "Create Mesh"
   ]
  },
  {
   "cell_type": "code",
   "execution_count": 298,
   "metadata": {},
   "outputs": [
    {
     "name": "stdout",
     "output_type": "stream",
     "text": [
      "{!!}\n",
      "\n",
      "{!!}\n",
      "\n"
     ]
    }
   ],
   "source": [
    "for i in range(3):\n",
    "    lum.addmesh()\n",
    "    lum.set({\"based on a structure\": 1,\n",
    "     \"structure\"           : \"Port \"+str(i),\n",
    "     \"set mesh multiplier\" : 1,\n",
    "     \"x mesh multiplier\"   : 4,\n",
    "     \"y mesh multiplier\"   : 4,\n",
    "     \"z mesh multiplier\"   : 8\n",
    "     })"
   ]
  }
 ],
 "metadata": {
  "interpreter": {
   "hash": "916dbcbb3f70747c44a77c7bcd40155683ae19c65e1c03b4aa3499c5328201f1"
  },
  "kernelspec": {
   "display_name": "Python 3.8.10 64-bit",
   "language": "python",
   "name": "python3"
  },
  "language_info": {
   "codemirror_mode": {
    "name": "ipython",
    "version": 3
   },
   "file_extension": ".py",
   "mimetype": "text/x-python",
   "name": "python",
   "nbconvert_exporter": "python",
   "pygments_lexer": "ipython3",
   "version": "3.8.10"
  },
  "orig_nbformat": 4
 },
 "nbformat": 4,
 "nbformat_minor": 2
}
