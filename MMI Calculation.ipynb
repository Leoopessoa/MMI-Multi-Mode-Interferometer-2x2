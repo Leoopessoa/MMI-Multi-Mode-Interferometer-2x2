{
 "cells": [
  {
   "cell_type": "code",
   "execution_count": 21,
   "metadata": {},
   "outputs": [],
   "source": [
    "import numpy as np\n",
    "import matplotlib.pyplot as plt\n",
    "import pandas\n",
    "from IPython.display import display, Math"
   ]
  },
  {
   "cell_type": "code",
   "execution_count": 22,
   "metadata": {},
   "outputs": [],
   "source": [
    "ns = 1.444\n",
    "nf = 3.476\n",
    "lambda0 = 1550e-9\n",
    "pi = np.pi \n",
    "k0 = 2*pi/lambda0\n",
    "Wm = 9e-6\n",
    "c0 = 299792458\n",
    "N = 2"
   ]
  },
  {
   "cell_type": "code",
   "execution_count": 23,
   "metadata": {},
   "outputs": [
    {
     "name": "stdout",
     "output_type": "stream",
     "text": [
      "TE: effective width = 9.156040531990453e-06\n"
     ]
    }
   ],
   "source": [
    "# TE Mode\n",
    "\n",
    "sigma = 0\n",
    "We = Wm + (lambda0/pi)*((ns/nf)**(2*sigma))*(nf**2 - ns**2)**(-1/2)\n",
    "print(\"TE: effective width =\",We)"
   ]
  },
  {
   "cell_type": "code",
   "execution_count": 24,
   "metadata": {},
   "outputs": [
    {
     "name": "stdout",
     "output_type": "stream",
     "text": [
      "Approximate_Neff = 3.475\n",
      "Approximate_Neff = 3.472\n",
      "Approximate_Neff = 3.467\n",
      "Approximate_Neff = 3.460\n",
      "Approximate_Neff = 3.450\n"
     ]
    }
   ],
   "source": [
    "neffapx = np.zeros(5)\n",
    "for i in range(5):\n",
    "    neffapx[i] = nf - ((i+1)**2*pi*lambda0)/(We**2*4*nf*k0)\n",
    "    kc = (i+1)*pi/We\n",
    "    print(\"Approximate_Neff = %4.3f\" %(neffapx[i]))"
   ]
  },
  {
   "cell_type": "code",
   "execution_count": 25,
   "metadata": {},
   "outputs": [
    {
     "data": {
      "text/latex": [
       "$\\displaystyle L_{\\pi} = 188.00~um $"
      ],
      "text/plain": [
       "<IPython.core.display.Math object>"
      ]
     },
     "metadata": {},
     "output_type": "display_data"
    },
    {
     "name": "stdout",
     "output_type": "stream",
     "text": [
      "Now we have the lenght for N outputs: \n"
     ]
    },
    {
     "data": {
      "text/latex": [
       "$\\displaystyle \\dfrac{3}{4n}L_{\\pi} = 188.00/n~um $"
      ],
      "text/plain": [
       "<IPython.core.display.Math object>"
      ]
     },
     "metadata": {},
     "output_type": "display_data"
    },
    {
     "name": "stdout",
     "output_type": "stream",
     "text": [
      "Since the MMI we are working at has two outputs, we have: \n"
     ]
    },
    {
     "data": {
      "text/latex": [
       "$\\displaystyle \\dfrac{3}{4(2)}L_{\\pi} = 94.00~um $"
      ],
      "text/plain": [
       "<IPython.core.display.Math object>"
      ]
     },
     "metadata": {},
     "output_type": "display_data"
    }
   ],
   "source": [
    "Lpi_apx = 2*pi/(neffapx[0]-neffapx[2])*1/k0 \n",
    "display(Math('$$L_{\\pi} = %5.2f~um $$' %(1e6*Lpi_apx)))\n",
    "print(\"Now we have the lenght for N outputs: \")\n",
    "display(Math('$$\\dfrac{3}{4n}L_{\\pi} = %5.2f/n~um $$' %(1e6*Lpi_apx)))\n",
    "print(\"Since the MMI we are working at has two outputs, we have: \")\n",
    "display(Math('$$\\dfrac{3}{4(2)}L_{\\pi} = %5.2f~um $$' %(1e6*Lpi_apx/2)))"
   ]
  },
  {
   "cell_type": "code",
   "execution_count": 26,
   "metadata": {},
   "outputs": [
    {
     "name": "stdout",
     "output_type": "stream",
     "text": [
      "For this guide, the ideal thickness of the ports will be:\n"
     ]
    },
    {
     "data": {
      "text/latex": [
       "$\\displaystyle W_{wg} =  1.43~um$"
      ],
      "text/plain": [
       "<IPython.core.display.Math object>"
      ]
     },
     "metadata": {},
     "output_type": "display_data"
    }
   ],
   "source": [
    "W_wg = (1/((2*N)**(1/4)))*np.sqrt(lambda0*We/neffapx[0])\n",
    "print(\"For this guide, the ideal thickness of the ports will be:\")\n",
    "display(Math('$$W_{wg} = %5.2f~um$$' %(1e6*W_wg)))"
   ]
  }
 ],
 "metadata": {
  "interpreter": {
   "hash": "916dbcbb3f70747c44a77c7bcd40155683ae19c65e1c03b4aa3499c5328201f1"
  },
  "kernelspec": {
   "display_name": "Python 3.8.10 64-bit",
   "language": "python",
   "name": "python3"
  },
  "language_info": {
   "codemirror_mode": {
    "name": "ipython",
    "version": 3
   },
   "file_extension": ".py",
   "mimetype": "text/x-python",
   "name": "python",
   "nbconvert_exporter": "python",
   "pygments_lexer": "ipython3",
   "version": "3.8.10"
  },
  "orig_nbformat": 4
 },
 "nbformat": 4,
 "nbformat_minor": 2
}
